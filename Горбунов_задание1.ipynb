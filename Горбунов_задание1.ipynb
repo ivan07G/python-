{
 "cells": [
  {
   "cell_type": "code",
   "execution_count": 3,
   "metadata": {},
   "outputs": [],
   "source": [
    "#Список контролируемых параметров на входном контроле продукции\n",
    "checklist = [\"документов\", \"внешнего состояния\", \"маркировки\", \"упаковки\", \"ревизии\"]"
   ]
  },
  {
   "cell_type": "code",
   "execution_count": 4,
   "metadata": {},
   "outputs": [],
   "source": [
    "#Список решений в случае несоответствий продукции\n",
    "decision = (\"устранить\", \"разрешить\", \"брак\")"
   ]
  },
  {
   "cell_type": "code",
   "execution_count": 5,
   "metadata": {},
   "outputs": [],
   "source": [
    "#Список результатов взависимости от принятого решения\n",
    "result = {\"Соответствует\": 'Принято', \"Устранить\": 'Отправить на доработку', \"Разрешить\":'Допустить', \"Брак\": 'Возврат'}"
   ]
  },
  {
   "cell_type": "code",
   "execution_count": 9,
   "metadata": {},
   "outputs": [
    {
     "name": "stdout",
     "output_type": "stream",
     "text": [
      "Выполните проверку: \n",
      "-  документов;\n",
      "-  внешнего состояния;\n",
      "-  маркировки;\n",
      "-  упаковки;\n",
      "-  ревизии\n",
      "Есть замечания по результатам контроля?\n",
      "Ответ: да\n",
      "Введите один из вариантов решения: \n",
      "-  устранить;\n",
      "-  разрешить;\n",
      "-  брак\n",
      "Ответ: устранить\n",
      "Результат проверки: Отправить на доработку\n"
     ]
    }
   ],
   "source": [
    "#выполнение входного контроля продукции\n",
    "print ( \"Выполните проверку:\", '\\n- ', \";\\n-  \".join(checklist) )\n",
    "print( \"Есть замечания по результатам контроля?\" )\n",
    "a = input( \"Укажите: да или нет\").lower()\n",
    "print (\"Ответ:\", a)\n",
    "if a == \"нет\":\n",
    "    print ( \"Результат:\", result[\"Соответствует\"] )\n",
    "elif a ==\"да\":\n",
    "    print ( \"Введите один из вариантов решения:\", '\\n- ', \";\\n-  \".join(decision) )\n",
    "    b = input( \"Укажите варианты решений: устранить, разрешить, брак\" ).lower()\n",
    "    print ( \"Ответ:\", b )\n",
    "    if b == decision[0]:\n",
    "        print ( \"Результат проверки:\", result[\"Устранить\"] )\n",
    "    elif b == decision[1]:\n",
    "        print ( \"Результат порверки:\", result[\"Разрешить\"] )\n",
    "    elif b == decision[2]:\n",
    "        print ( \"Результат проверки:\", result[\"Брак\"] ) \n",
    "    else:\n",
    "        print( \"Введены некорректные данные\" )\n",
    "else:\n",
    "    print( \"Введены некорректные данные\" )"
   ]
  }
 ],
 "metadata": {
  "kernelspec": {
   "display_name": "Python 3.10.7 64-bit",
   "language": "python",
   "name": "python3"
  },
  "language_info": {
   "codemirror_mode": {
    "name": "ipython",
    "version": 3
   },
   "file_extension": ".py",
   "mimetype": "text/x-python",
   "name": "python",
   "nbconvert_exporter": "python",
   "pygments_lexer": "ipython3",
   "version": "3.10.7"
  },
  "orig_nbformat": 4,
  "vscode": {
   "interpreter": {
    "hash": "d77effa65a88f307e46473471b3987522c46407dafa2cb35803bc562735c2aee"
   }
  }
 },
 "nbformat": 4,
 "nbformat_minor": 2
}
